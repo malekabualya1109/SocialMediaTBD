{
 "cells": [
  {
   "cell_type": "code",
   "execution_count": 2,
   "id": "c4e51640-b956-4937-af66-3fd0dccf3ce4",
   "metadata": {},
   "outputs": [],
   "source": [
    "import pandas as pd "
   ]
  },
  {
   "cell_type": "code",
   "execution_count": 3,
   "id": "a3ee2a3f-6243-4c08-9e95-63438e24d8a2",
   "metadata": {},
   "outputs": [],
   "source": [
    "import os"
   ]
  },
  {
   "cell_type": "code",
   "execution_count": 7,
   "id": "f0d68629-11f6-4852-b67e-ca5db829e39e",
   "metadata": {},
   "outputs": [
    {
     "name": "stdout",
     "output_type": "stream",
     "text": [
      "['.ipynb_checkpoints', 'aldo.ipynb', 'algo.py', 'app.py', 'ForumServer.py', 'friends.py', 'loginandsignup.py', 'logintest.py', 'package.json', 'postcreation.py', 'poststesting.py', 'tempPython.py', 'uploaddatabase.py', 'uploads', 'uploadstory.py', 'venv', '__pycache__']\n"
     ]
    }
   ],
   "source": [
    "print(os.listdir(\"../my-flask-app\"))"
   ]
  },
  {
   "cell_type": "code",
   "execution_count": 8,
   "id": "d795b363-df6f-4226-96e0-c904bdff73fb",
   "metadata": {},
   "outputs": [],
   "source": [
    "talent = pd.read_csv(\"talent.csv\")"
   ]
  },
  {
   "cell_type": "code",
   "execution_count": 10,
   "id": "5b19e82c-9e32-4b95-85f3-7ff3ea28604a",
   "metadata": {},
   "outputs": [
    {
     "data": {
      "text/plain": [
       "Index(['id', 'name', 'price', 'reactions', 'stars', 'joined', 'categories',\n",
       "       'in_13_reasons_why', 'in_90_day_fiance', 'in_actors',\n",
       "       ...\n",
       "       'in_ufc', 'in_vanderpump_rules', 'in_venture_capitalists', 'in_viners',\n",
       "       'in_vlog_squad', 'in_voice_actors', 'in_winter_sports', 'in_writers',\n",
       "       'in_younow', 'in_youtubers'],\n",
       "      dtype='object', length=110)"
      ]
     },
     "execution_count": 10,
     "metadata": {},
     "output_type": "execute_result"
    }
   ],
   "source": [
    "talent.columns"
   ]
  },
  {
   "cell_type": "code",
   "execution_count": 12,
   "id": "7271809a-4b73-4058-beac-f10ca294bb40",
   "metadata": {},
   "outputs": [
    {
     "name": "stdout",
     "output_type": "stream",
     "text": [
      "               id             name  price  reactions  stars         joined  \\\n",
      "0     perezhilton     Perez Hilton   27.0        924    5.0     April 2018   \n",
      "1        andydick        Andy Dick   99.0        340    4.9   October 2018   \n",
      "2         tjlavin         TJ Lavin   80.0        291    5.0  February 2018   \n",
      "3  carsonkressley  Carson Kressley   59.0        290    5.0   October 2018   \n",
      "4        riffraff        RiFF RAFF   75.0        402    4.7  December 2017   \n",
      "\n",
      "                                          categories  in_13_reasons_why  \\\n",
      "0         ['Reality TV', 'Commentators', 'Featured']                  0   \n",
      "1  ['Reality TV', 'Comedians', 'Featured', 'Actors']                  0   \n",
      "2  ['Reality TV', 'Riders', 'Featured', 'Extreme ...                  0   \n",
      "3  ['Reality TV', 'Bravo', 'Stylists', 'Featured'...                  0   \n",
      "4               ['Rappers', 'Featured', 'Musicians']                  0   \n",
      "\n",
      "   in_90_day_fiance  in_actors  ...  in_ufc  in_vanderpump_rules  \\\n",
      "0                 0          0  ...       0                    0   \n",
      "1                 0          1  ...       0                    0   \n",
      "2                 0          0  ...       0                    0   \n",
      "3                 0          1  ...       0                    0   \n",
      "4                 0          0  ...       0                    0   \n",
      "\n",
      "   in_venture_capitalists  in_viners  in_vlog_squad  in_voice_actors  \\\n",
      "0                       0          0              0                0   \n",
      "1                       0          0              0                0   \n",
      "2                       0          0              0                0   \n",
      "3                       0          0              0                0   \n",
      "4                       0          0              0                0   \n",
      "\n",
      "   in_winter_sports  in_writers  in_younow  in_youtubers  \n",
      "0                 0           0          0             0  \n",
      "1                 0           0          0             0  \n",
      "2                 0           0          0             0  \n",
      "3                 0           0          0             0  \n",
      "4                 0           0          0             0  \n",
      "\n",
      "[5 rows x 110 columns]\n"
     ]
    }
   ],
   "source": [
    "print(talent.head())\n"
   ]
  },
  {
   "cell_type": "code",
   "execution_count": 13,
   "id": "3af44719-1898-455a-b569-a5c532bc3412",
   "metadata": {},
   "outputs": [
    {
     "name": "stdout",
     "output_type": "stream",
     "text": [
      "<class 'pandas.core.frame.DataFrame'>\n",
      "RangeIndex: 5392 entries, 0 to 5391\n",
      "Columns: 110 entries, id to in_youtubers\n",
      "dtypes: float64(2), int64(104), object(4)\n",
      "memory usage: 4.5+ MB\n",
      "None\n"
     ]
    }
   ],
   "source": [
    "print(talent.info())"
   ]
  },
  {
   "cell_type": "code",
   "execution_count": 15,
   "id": "ac426f67-96ec-41e9-960e-add1d77d6347",
   "metadata": {},
   "outputs": [],
   "source": [
    "da_columns = [col for col in talent.columns if col.startswith(\"in_\")]"
   ]
  },
  {
   "cell_type": "code",
   "execution_count": 16,
   "id": "b96696b8-9d90-4594-a1de-2d0aca1cfe56",
   "metadata": {},
   "outputs": [
    {
     "data": {
      "text/plain": [
       "['in_13_reasons_why',\n",
       " 'in_90_day_fiance',\n",
       " 'in_actors',\n",
       " 'in_adult_film_stars',\n",
       " 'in_american_idol',\n",
       " 'in_animals',\n",
       " 'in_artists',\n",
       " 'in_athletes',\n",
       " 'in_authors',\n",
       " 'in_baseball',\n",
       " 'in_basketball',\n",
       " 'in_below_deck',\n",
       " 'in_bloggers',\n",
       " 'in_bodybuilders',\n",
       " 'in_boxing',\n",
       " 'in_bravo',\n",
       " 'in_british_stars',\n",
       " 'in_broadway',\n",
       " 'in_browse_featured',\n",
       " 'in_cameo_la',\n",
       " 'in_cameo_team',\n",
       " 'in_chefs',\n",
       " 'in_comedians',\n",
       " 'in_commentators',\n",
       " 'in_country_music',\n",
       " 'in_cricket',\n",
       " 'in_djs',\n",
       " 'in_dancers',\n",
       " 'in_disney',\n",
       " 'in_drag_queens',\n",
       " 'in_entrepreneurs',\n",
       " 'in_extreme_sports',\n",
       " 'in_family',\n",
       " 'in_fashion',\n",
       " 'in_featured',\n",
       " 'in_fighters',\n",
       " 'in_fitness',\n",
       " 'in_food',\n",
       " 'in_football',\n",
       " 'in_for_charity',\n",
       " 'in_game_of_thrones',\n",
       " 'in_gamers',\n",
       " 'in_golf',\n",
       " 'in_hall_of_famers',\n",
       " 'in_harry_potter',\n",
       " 'in_hockey',\n",
       " 'in_instagram_influencers',\n",
       " 'in_legends',\n",
       " 'in_lifestyle',\n",
       " 'in_mtv',\n",
       " 'in_magicians',\n",
       " 'in_models',\n",
       " 'in_motivational_speakers',\n",
       " 'in_musicians',\n",
       " 'in_nfl_draft_2019',\n",
       " 'in_new',\n",
       " 'in_olympics',\n",
       " 'in_one_tree_hill',\n",
       " 'in_orange_is_the_new_black',\n",
       " 'in_photographers',\n",
       " 'in_playlist_live',\n",
       " 'in_podcast',\n",
       " 'in_politics',\n",
       " 'in_pro_wrestling',\n",
       " 'in_queer_eye',\n",
       " 'in_racing',\n",
       " 'in_radio',\n",
       " 'in_rappers',\n",
       " 'in_real_housewives',\n",
       " 'in_reality_tv',\n",
       " 'in_riders',\n",
       " 'in_riverdale',\n",
       " 'in_rock_music',\n",
       " 'in_rugby',\n",
       " 'in_sabrina_the_teenage_witch',\n",
       " 'in_singer_songwriter',\n",
       " 'in_skateboarders',\n",
       " 'in_soccer',\n",
       " 'in_spanish_language',\n",
       " 'in_spotlight',\n",
       " 'in_stylists',\n",
       " 'in_summer_house',\n",
       " 'in_tv_hosts',\n",
       " 'in_teen_mom',\n",
       " 'in_tennis',\n",
       " 'in_the_bachelor',\n",
       " 'in_the_challenge',\n",
       " 'in_the_chilling_adventures_of_sabrina',\n",
       " 'in_the_office',\n",
       " 'in_the_voice',\n",
       " 'in_tiktok',\n",
       " 'in_track_field',\n",
       " 'in_twilight',\n",
       " 'in_ufc',\n",
       " 'in_vanderpump_rules',\n",
       " 'in_venture_capitalists',\n",
       " 'in_viners',\n",
       " 'in_vlog_squad',\n",
       " 'in_voice_actors',\n",
       " 'in_winter_sports',\n",
       " 'in_writers',\n",
       " 'in_younow',\n",
       " 'in_youtubers']"
      ]
     },
     "execution_count": 16,
     "metadata": {},
     "output_type": "execute_result"
    }
   ],
   "source": [
    "da_columns"
   ]
  },
  {
   "cell_type": "code",
   "execution_count": null,
   "id": "2f542ab0-63ee-495b-856c-dcf0999e5d71",
   "metadata": {},
   "outputs": [],
   "source": []
  }
 ],
 "metadata": {
  "kernelspec": {
   "display_name": "Python 3 (ipykernel)",
   "language": "python",
   "name": "python3"
  },
  "language_info": {
   "codemirror_mode": {
    "name": "ipython",
    "version": 3
   },
   "file_extension": ".py",
   "mimetype": "text/x-python",
   "name": "python",
   "nbconvert_exporter": "python",
   "pygments_lexer": "ipython3",
   "version": "3.11.9"
  }
 },
 "nbformat": 4,
 "nbformat_minor": 5
}
