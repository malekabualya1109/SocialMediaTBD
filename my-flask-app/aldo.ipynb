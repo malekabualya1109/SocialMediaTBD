{
 "cells": [
  {
   "cell_type": "code",
   "execution_count": 2,
   "id": "c4e51640-b956-4937-af66-3fd0dccf3ce4",
   "metadata": {},
   "outputs": [],
   "source": [
    "import pandas as pd "
   ]
  },
  {
   "cell_type": "code",
   "execution_count": 3,
   "id": "a3ee2a3f-6243-4c08-9e95-63438e24d8a2",
   "metadata": {},
   "outputs": [],
   "source": [
    "import os"
   ]
  },
  {
   "cell_type": "code",
   "execution_count": 7,
   "id": "f0d68629-11f6-4852-b67e-ca5db829e39e",
   "metadata": {},
   "outputs": [
    {
     "name": "stdout",
     "output_type": "stream",
     "text": [
      "['.ipynb_checkpoints', 'aldo.ipynb', 'algo.py', 'app.py', 'ForumServer.py', 'friends.py', 'loginandsignup.py', 'logintest.py', 'package.json', 'postcreation.py', 'poststesting.py', 'tempPython.py', 'uploaddatabase.py', 'uploads', 'uploadstory.py', 'venv', '__pycache__']\n"
     ]
    }
   ],
   "source": [
    "print(os.listdir(\"../my-flask-app\"))"
   ]
  },
  {
   "cell_type": "code",
   "execution_count": 8,
   "id": "d795b363-df6f-4226-96e0-c904bdff73fb",
   "metadata": {},
   "outputs": [],
   "source": [
    "talent = pd.read_csv(\"talent.csv\")"
   ]
  },
  {
   "cell_type": "code",
   "execution_count": 9,
   "id": "5b19e82c-9e32-4b95-85f3-7ff3ea28604a",
   "metadata": {},
   "outputs": [
    {
     "data": {
      "text/plain": [
       "Index(['id', 'name', 'price', 'reactions', 'stars', 'joined', 'categories',\n",
       "       'in_13_reasons_why', 'in_90_day_fiance', 'in_actors',\n",
       "       ...\n",
       "       'in_ufc', 'in_vanderpump_rules', 'in_venture_capitalists', 'in_viners',\n",
       "       'in_vlog_squad', 'in_voice_actors', 'in_winter_sports', 'in_writers',\n",
       "       'in_younow', 'in_youtubers'],\n",
       "      dtype='object', length=110)"
      ]
     },
     "execution_count": 9,
     "metadata": {},
     "output_type": "execute_result"
    }
   ],
   "source": [
    "talent.columns"
   ]
  }
 ],
 "metadata": {
  "kernelspec": {
   "display_name": "Python 3 (ipykernel)",
   "language": "python",
   "name": "python3"
  },
  "language_info": {
   "codemirror_mode": {
    "name": "ipython",
    "version": 3
   },
   "file_extension": ".py",
   "mimetype": "text/x-python",
   "name": "python",
   "nbconvert_exporter": "python",
   "pygments_lexer": "ipython3",
   "version": "3.11.9"
  }
 },
 "nbformat": 4,
 "nbformat_minor": 5
}
