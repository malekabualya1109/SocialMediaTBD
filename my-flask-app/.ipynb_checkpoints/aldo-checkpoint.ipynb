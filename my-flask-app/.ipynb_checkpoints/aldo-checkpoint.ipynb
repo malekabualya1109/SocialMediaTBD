{
 "cells": [
  {
   "cell_type": "code",
   "execution_count": 2,
   "id": "c4e51640-b956-4937-af66-3fd0dccf3ce4",
   "metadata": {},
   "outputs": [],
   "source": [
    "import pandas as pd "
   ]
  },
  {
   "cell_type": "code",
   "execution_count": 3,
   "id": "a3ee2a3f-6243-4c08-9e95-63438e24d8a2",
   "metadata": {},
   "outputs": [],
   "source": [
    "import os"
   ]
  },
  {
   "cell_type": "code",
   "execution_count": 7,
   "id": "f0d68629-11f6-4852-b67e-ca5db829e39e",
   "metadata": {},
   "outputs": [
    {
     "name": "stdout",
     "output_type": "stream",
     "text": [
      "['.ipynb_checkpoints', 'aldo.ipynb', 'algo.py', 'app.py', 'ForumServer.py', 'friends.py', 'loginandsignup.py', 'logintest.py', 'package.json', 'postcreation.py', 'poststesting.py', 'tempPython.py', 'uploaddatabase.py', 'uploads', 'uploadstory.py', 'venv', '__pycache__']\n"
     ]
    }
   ],
   "source": [
    "print(os.listdir(\"../my-flask-app\"))"
   ]
  },
  {
   "cell_type": "code",
   "execution_count": 8,
   "id": "d795b363-df6f-4226-96e0-c904bdff73fb",
   "metadata": {},
   "outputs": [],
   "source": [
    "talent = pd.read_csv(\"talent.csv\")"
   ]
  },
  {
   "cell_type": "code",
   "execution_count": 10,
   "id": "5b19e82c-9e32-4b95-85f3-7ff3ea28604a",
   "metadata": {},
   "outputs": [
    {
     "data": {
      "text/plain": [
       "Index(['id', 'name', 'price', 'reactions', 'stars', 'joined', 'categories',\n",
       "       'in_13_reasons_why', 'in_90_day_fiance', 'in_actors',\n",
       "       ...\n",
       "       'in_ufc', 'in_vanderpump_rules', 'in_venture_capitalists', 'in_viners',\n",
       "       'in_vlog_squad', 'in_voice_actors', 'in_winter_sports', 'in_writers',\n",
       "       'in_younow', 'in_youtubers'],\n",
       "      dtype='object', length=110)"
      ]
     },
     "execution_count": 10,
     "metadata": {},
     "output_type": "execute_result"
    }
   ],
   "source": [
    "talent.columns"
   ]
  },
  {
   "cell_type": "code",
   "execution_count": 12,
   "id": "7271809a-4b73-4058-beac-f10ca294bb40",
   "metadata": {},
   "outputs": [
    {
     "name": "stdout",
     "output_type": "stream",
     "text": [
      "               id             name  price  reactions  stars         joined  \\\n",
      "0     perezhilton     Perez Hilton   27.0        924    5.0     April 2018   \n",
      "1        andydick        Andy Dick   99.0        340    4.9   October 2018   \n",
      "2         tjlavin         TJ Lavin   80.0        291    5.0  February 2018   \n",
      "3  carsonkressley  Carson Kressley   59.0        290    5.0   October 2018   \n",
      "4        riffraff        RiFF RAFF   75.0        402    4.7  December 2017   \n",
      "\n",
      "                                          categories  in_13_reasons_why  \\\n",
      "0         ['Reality TV', 'Commentators', 'Featured']                  0   \n",
      "1  ['Reality TV', 'Comedians', 'Featured', 'Actors']                  0   \n",
      "2  ['Reality TV', 'Riders', 'Featured', 'Extreme ...                  0   \n",
      "3  ['Reality TV', 'Bravo', 'Stylists', 'Featured'...                  0   \n",
      "4               ['Rappers', 'Featured', 'Musicians']                  0   \n",
      "\n",
      "   in_90_day_fiance  in_actors  ...  in_ufc  in_vanderpump_rules  \\\n",
      "0                 0          0  ...       0                    0   \n",
      "1                 0          1  ...       0                    0   \n",
      "2                 0          0  ...       0                    0   \n",
      "3                 0          1  ...       0                    0   \n",
      "4                 0          0  ...       0                    0   \n",
      "\n",
      "   in_venture_capitalists  in_viners  in_vlog_squad  in_voice_actors  \\\n",
      "0                       0          0              0                0   \n",
      "1                       0          0              0                0   \n",
      "2                       0          0              0                0   \n",
      "3                       0          0              0                0   \n",
      "4                       0          0              0                0   \n",
      "\n",
      "   in_winter_sports  in_writers  in_younow  in_youtubers  \n",
      "0                 0           0          0             0  \n",
      "1                 0           0          0             0  \n",
      "2                 0           0          0             0  \n",
      "3                 0           0          0             0  \n",
      "4                 0           0          0             0  \n",
      "\n",
      "[5 rows x 110 columns]\n"
     ]
    }
   ],
   "source": [
    "print(talent.head())\n"
   ]
  },
  {
   "cell_type": "code",
   "execution_count": 13,
   "id": "3af44719-1898-455a-b569-a5c532bc3412",
   "metadata": {},
   "outputs": [
    {
     "name": "stdout",
     "output_type": "stream",
     "text": [
      "<class 'pandas.core.frame.DataFrame'>\n",
      "RangeIndex: 5392 entries, 0 to 5391\n",
      "Columns: 110 entries, id to in_youtubers\n",
      "dtypes: float64(2), int64(104), object(4)\n",
      "memory usage: 4.5+ MB\n",
      "None\n"
     ]
    }
   ],
   "source": [
    "print(talent.info())"
   ]
  },
  {
   "cell_type": "code",
   "execution_count": 14,
   "id": "ac426f67-96ec-41e9-960e-add1d77d6347",
   "metadata": {},
   "outputs": [
    {
     "ename": "SyntaxError",
     "evalue": "unmatched ']' (2222605510.py, line 1)",
     "output_type": "error",
     "traceback": [
      "  \u001b[36mCell\u001b[39m\u001b[36m \u001b[39m\u001b[32mIn[14]\u001b[39m\u001b[32m, line 1\u001b[39m\n\u001b[31m    \u001b[39m\u001b[31mda_columns = col for col in talent.columns if col.startswith(\"in_\")]\u001b[39m\n                                                                       ^\n\u001b[31mSyntaxError\u001b[39m\u001b[31m:\u001b[39m unmatched ']'\n"
     ]
    }
   ],
   "source": [
    "da_columns = [col for col in talent.columns if col.startswith(\"in_\")]"
   ]
  },
  {
   "cell_type": "code",
   "execution_count": null,
   "id": "b96696b8-9d90-4594-a1de-2d0aca1cfe56",
   "metadata": {},
   "outputs": [],
   "source": []
  }
 ],
 "metadata": {
  "kernelspec": {
   "display_name": "Python 3 (ipykernel)",
   "language": "python",
   "name": "python3"
  },
  "language_info": {
   "codemirror_mode": {
    "name": "ipython",
    "version": 3
   },
   "file_extension": ".py",
   "mimetype": "text/x-python",
   "name": "python",
   "nbconvert_exporter": "python",
   "pygments_lexer": "ipython3",
   "version": "3.11.9"
  }
 },
 "nbformat": 4,
 "nbformat_minor": 5
}
